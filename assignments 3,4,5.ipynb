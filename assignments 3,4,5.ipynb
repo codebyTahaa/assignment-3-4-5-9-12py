{
 "cells": [
  {
   "cell_type": "markdown",
   "id": "97481ef2",
   "metadata": {},
   "source": [
    "# strings\n",
    "    "
   ]
  },
  {
   "cell_type": "code",
   "execution_count": 7,
   "id": "e1b23021",
   "metadata": {},
   "outputs": [
    {
     "name": "stdout",
     "output_type": "stream",
     "text": [
      "enter the string: taha\n",
      "vowel count 1\n"
     ]
    }
   ],
   "source": [
    "#1. Write a program that accepts a string from user. Your program should count and display number of\n",
    "#vowels in that string\n",
    "\n",
    "string = input(\"enter the string: \")\n",
    "vowel = ['a','e','i','o','u']\n",
    "result=[]\n",
    "for letter in vowel:\n",
    "    if letter in string:\n",
    "        result.append(letter)\n",
    "\n",
    "print(\"vowel count\",len(result))"
   ]
  },
  {
   "cell_type": "code",
   "execution_count": 12,
   "id": "78fae1b5",
   "metadata": {},
   "outputs": [
    {
     "name": "stdout",
     "output_type": "stream",
     "text": [
      "Enter a string: T aha1\n",
      "Number of uppercase letters: 1\n",
      "Number of lowercase letters: 3\n",
      "Number of digits: 1\n",
      "Number of whitespace characters: 1\n"
     ]
    }
   ],
   "source": [
    "#2.Write a program that reads a string from keyboard and display:\n",
    "#* The number of uppercase letters in the string\n",
    "#* The number of lowercase letters in the string\n",
    "#* The number of digits in the string\n",
    "#* The number of whitespace characters in the string\n",
    "\n",
    "\n",
    "input_string = input(\"Enter a string: \")\n",
    "upper = 0\n",
    "lower = 0\n",
    "digit = 0\n",
    "space = 0\n",
    "for char in input_string:\n",
    "    if char.isupper():\n",
    "        upper += 1\n",
    "    elif char.islower():\n",
    "        lower += 1\n",
    "    elif char.isdigit():\n",
    "        digit += 1\n",
    "    elif char.isspace():\n",
    "        space += 1\n",
    "\n",
    "print(\"Number of uppercase letters:\", upper)\n",
    "print(\"Number of lowercase letters:\", lower)\n",
    "print(\"Number of digits:\", digit)\n",
    "print(\"Number of whitespace characters:\", space)\n"
   ]
  },
  {
   "cell_type": "code",
   "execution_count": 17,
   "id": "c470b098",
   "metadata": {},
   "outputs": [
    {
     "name": "stdout",
     "output_type": "stream",
     "text": [
      "Enter a string: hello \n",
      "The result is:  elloh\n"
     ]
    }
   ],
   "source": [
    "3.\n",
    "def swap_first_and_last(input_string):\n",
    "    if len(input_string) < 2:\n",
    "        return input_string  \n",
    "    else:\n",
    "        return input_string[-1] + input_string[1:-1] + input_string[0]\n",
    "\n",
    "user_input = input(\"Enter a string: \")\n",
    "result = swap_first_and_last(user_input)\n",
    "print(\"The result is:\", result)\n"
   ]
  },
  {
   "cell_type": "code",
   "execution_count": 19,
   "id": "ae8e9f7e",
   "metadata": {},
   "outputs": [
    {
     "name": "stdout",
     "output_type": "stream",
     "text": [
      "Enter a string: EXAM\n",
      "Reversed string: MAXE\n"
     ]
    }
   ],
   "source": [
    "4.\n",
    "\n",
    "def reverse(input_string):\n",
    "    reversed_string = input_string[::-1]\n",
    "    return reversed_string\n",
    "user_input = input(\"Enter a string: \")\n",
    "reversed_result = reverse(user_input)\n",
    "print(\"Reversed string:\", reversed_result)\n"
   ]
  },
  {
   "cell_type": "code",
   "execution_count": 1,
   "id": "f9e211e0",
   "metadata": {},
   "outputs": [
    {
     "name": "stdout",
     "output_type": "stream",
     "text": [
      "enter the string: examination 2021\n",
      "the result is:  xamination 2021e\n"
     ]
    }
   ],
   "source": [
    "5.\n",
    "user = input(\"enter the string: \")\n",
    "shifted_string = user[1:] + user[0]\n",
    "print(f\"the result is: \",shifted_string)"
   ]
  },
  {
   "cell_type": "code",
   "execution_count": 6,
   "id": "85cc982f",
   "metadata": {},
   "outputs": [
    {
     "name": "stdout",
     "output_type": "stream",
     "text": [
      "enter your first name,middle name and last name: Muhammad Taha Amir\n",
      "M.T.A\n"
     ]
    }
   ],
   "source": [
    "6.\n",
    "user = input(\"enter your first name,middle name and last name: \")\n",
    "new = user[0] + '.' + user[9] + '.' + user[14]\n",
    "print(new)"
   ]
  },
  {
   "cell_type": "code",
   "execution_count": 9,
   "id": "2cedd8b8",
   "metadata": {},
   "outputs": [
    {
     "name": "stdout",
     "output_type": "stream",
     "text": [
      "enter the string: madam\n",
      "madam is palindrome\n"
     ]
    }
   ],
   "source": [
    "7.\n",
    "input_string = input(\"enter the string: \")\n",
    "input_string = input_string.lower()\n",
    "palindrome = True\n",
    "for i in range(len(input_string)//2):\n",
    "    if input_string[i] != input_string[-(i+1)]:\n",
    "        \n",
    "        palindrome = False\n",
    "        break\n",
    "if palindrome:\n",
    "    print(f\"{input_string} is palindrome\")\n",
    "else:\n",
    "    print(f\"{input_string} is not palindrome\")"
   ]
  },
  {
   "cell_type": "code",
   "execution_count": 13,
   "id": "9638e223",
   "metadata": {},
   "outputs": [
    {
     "name": "stdout",
     "output_type": "stream",
     "text": [
      "shift\n",
      "hifts\n",
      "iftsh\n",
      "ftshi\n",
      "tshif\n",
      "shift\n"
     ]
    }
   ],
   "source": [
    "8. \n",
    "word = \"shift\"\n",
    "for i in range(0,6):\n",
    "    shifted = word[i:] + word[:i]\n",
    "    print(shifted)"
   ]
  },
  {
   "cell_type": "code",
   "execution_count": 15,
   "id": "c81bf618",
   "metadata": {},
   "outputs": [
    {
     "name": "stdout",
     "output_type": "stream",
     "text": [
      "Enter your password: taha.bilalpass1\n",
      "Error: Password must contain at least one uppercase letter, one lowercase letter, and one numeric digit.\n"
     ]
    }
   ],
   "source": [
    "9.\n",
    "password = input(\"Enter your password: \")\n",
    "\n",
    "has_upper = False\n",
    "has_lower = False\n",
    "has_digit = False\n",
    "\n",
    "if len(password) >= 8:\n",
    "    for char in password:\n",
    "        if char.isupper():\n",
    "            has_upper = True\n",
    "        if char.islower():\n",
    "            has_lower = True\n",
    "        if char.isdigit():\n",
    "            has_digit = True\n",
    "\n",
    "    if has_upper and has_lower and has_digit:\n",
    "        print(\"Password setup successful!\")\n",
    "    else:\n",
    "        print(\"Error: Password must contain at least one uppercase letter, one lowercase letter, and one numeric digit.\")\n",
    "else:\n",
    "    print(\"Error: Password must be at least 8 characters long.\")\n"
   ]
  },
  {
   "cell_type": "markdown",
   "id": "579255dc",
   "metadata": {},
   "source": [
    "# lists"
   ]
  },
  {
   "cell_type": "code",
   "execution_count": 27,
   "id": "fe7f230b",
   "metadata": {},
   "outputs": [
    {
     "name": "stdout",
     "output_type": "stream",
     "text": [
      "enter element: 1: banana\n",
      "enter element: 2: orange\n",
      "enter element: 3: mango\n",
      "the alternate elements of list is: ['banana', 'orange', 'mango']\n"
     ]
    }
   ],
   "source": [
    "1. \n",
    "listed = []\n",
    "#input_user = int(input(\"enter the number of elements in list: \"))\n",
    "for i in range(0,3):\n",
    "    element = input(f\"enter element: {i+1}: \")\n",
    "    listed.append(element)\n",
    "print(f\"the alternate elements of list is: {listed}\")\n"
   ]
  },
  {
   "cell_type": "code",
   "execution_count": 1,
   "id": "e98ddeec",
   "metadata": {},
   "outputs": [
    {
     "name": "stdout",
     "output_type": "stream",
     "text": [
      "Enter a list: banana,orange,apple,mango\n",
      "Reversed list: ['mango', 'apple', 'orange', 'banana']\n"
     ]
    }
   ],
   "source": [
    "2.\n",
    "user_input = input(\"Enter a list: \")\n",
    "user_list = user_input.split(',')\n",
    "start, end = 0, len(user_list) - 1\n",
    "while start < end:\n",
    "    user_list[start], user_list[end] = user_list[end], user_list[start]\n",
    "    start += 1\n",
    "    end -= 1\n",
    "print(\"Reversed list:\", user_list)\n"
   ]
  },
  {
   "cell_type": "code",
   "execution_count": 10,
   "id": "6eaf1853",
   "metadata": {},
   "outputs": [
    {
     "name": "stdout",
     "output_type": "stream",
     "text": [
      "Enter the number of elements in the list: 3\n",
      "Enter a value: 2\n",
      "Enter a value: 5\n",
      "Enter a value: 7\n",
      "The largest number in the list is: 7\n"
     ]
    }
   ],
   "source": [
    "3.\n",
    "my_list = []  \n",
    "n = int(input(\"Enter the number of elements in the list: \"))\n",
    "for _ in range(n):\n",
    "    value = int(input(\"Enter a value: \"))\n",
    "    my_list.append(value)\n",
    "largest_number = my_list[0]\n",
    "for number in my_list:\n",
    "    if number > largest_number:\n",
    "        largest_number = number\n",
    "print(\"The largest number in the list is:\", largest_number)\n",
    "\n",
    "    \n",
    "\n"
   ]
  },
  {
   "cell_type": "code",
   "execution_count": 2,
   "id": "cf395676",
   "metadata": {},
   "outputs": [
    {
     "name": "stdout",
     "output_type": "stream",
     "text": [
      "[5, 1, 2, 3, 4]\n"
     ]
    }
   ],
   "source": [
    "4.\n",
    "my_list = [1,2,3,4,5]\n",
    "n = 1\n",
    "rotated_list = my_list[-n:] + my_list[:-n]\n",
    "print(rotated_list)\n"
   ]
  },
  {
   "cell_type": "code",
   "execution_count": 7,
   "id": "f69d2e63",
   "metadata": {},
   "outputs": [
    {
     "name": "stdout",
     "output_type": "stream",
     "text": [
      "Enter a string: i am taha\n",
      "Enter the word to remove: am\n",
      "Result string: i taha\n"
     ]
    }
   ],
   "source": [
    "5\n",
    "\n",
    "user_string = input(\"Enter a string: \")\n",
    "word_to_remove = input(\"Enter the word to remove: \")\n",
    "words = user_string.split()\n",
    "new_words = [word for word in words if word != word_to_remove]\n",
    "result_string = \" \".join(new_words)\n",
    "print(\"Result string:\", result_string)\n",
    "\n",
    "\n"
   ]
  },
  {
   "cell_type": "code",
   "execution_count": 9,
   "id": "e0f39fba",
   "metadata": {},
   "outputs": [
    {
     "name": "stdout",
     "output_type": "stream",
     "text": [
      "Enter a date (mm/dd/yyyy): 12/29/2006\n",
      "December 29, 2006\n"
     ]
    }
   ],
   "source": [
    "6.\n",
    "\n",
    "user_date = input(\"Enter a date (mm/dd/yyyy): \")\n",
    "month, day, year = map(int, user_date.split('/'))\n",
    "months = ['January', 'February', 'March', 'April', 'May', 'June',\n",
    "          'July', 'August', 'September', 'October', 'November', 'December']\n",
    "print(f\"{months[month - 1]} {day}, {year}\")\n"
   ]
  },
  {
   "cell_type": "code",
   "execution_count": 11,
   "id": "2f7f65b3",
   "metadata": {},
   "outputs": [
    {
     "name": "stdout",
     "output_type": "stream",
     "text": [
      "Enter a sentence: stop and smell the roses\n",
      "Capitalized sentence: Stop And Smell The Roses\n"
     ]
    }
   ],
   "source": [
    "7.\n",
    "\n",
    "user_sentence = input(\"Enter a sentence: \")\n",
    "words = user_sentence.split()\n",
    "capitalized_words = [word.capitalize() for word in words]\n",
    "new_sentence = \" \".join(capitalized_words)\n",
    "print(\"Capitalized sentence:\", new_sentence)\n"
   ]
  },
  {
   "cell_type": "code",
   "execution_count": 1,
   "id": "3df29461",
   "metadata": {},
   "outputs": [
    {
     "name": "stdout",
     "output_type": "stream",
     "text": [
      "the sum of row 1 is:  32\n",
      "the sum of row 2 is:  31\n",
      "the sum of row 3 is:  63\n"
     ]
    }
   ],
   "source": [
    "8.\n",
    "\n",
    "numbers = [2,11,7,12,\n",
    "          5,2,9,15,\n",
    "          8,3,10,42]\n",
    "x = numbers[0] + numbers[1] + numbers[2] + numbers[3]\n",
    "y = numbers[4] + numbers[5] + numbers[6] + numbers[7]\n",
    "z = numbers[8] + numbers[9] + numbers[10] + numbers[11]\n",
    "print(\"the sum of row 1 is: \",x)\n",
    "print(\"the sum of row 2 is: \",y)\n",
    "print(\"the sum of row 3 is: \",z)"
   ]
  },
  {
   "cell_type": "code",
   "execution_count": 4,
   "id": "4eca36c7",
   "metadata": {},
   "outputs": [
    {
     "name": "stdout",
     "output_type": "stream",
     "text": [
      "The sum of both matrices are:  244\n"
     ]
    }
   ],
   "source": [
    "9.\n",
    "matrix_1 = [2,11,7,12,\n",
    "          5,2,9,15,\n",
    "          8,3,10,42]\n",
    "x = matrix_1[0] + matrix_1[1] + matrix_1[2] + matrix_1[3]\n",
    "y = matrix_1[4] + matrix_1[5] + matrix_1[6] + matrix_1[7]\n",
    "z = matrix_1[8] + matrix_1[9] + matrix_1[10] + matrix_1[11]\n",
    "sum_of_matrix_1 = x+y+z\n",
    "matrix_2 = [7,9,7,10,\n",
    "           13,2,0,11,\n",
    "           8,0,17,34]\n",
    "p = matrix_2[0] + matrix_2[1] + matrix_2[2] + matrix_2[3]\n",
    "q = matrix_2[4] + matrix_2[5] + matrix_2[6] + matrix_2[7]\n",
    "r = matrix_2[8] + matrix_2[9] + matrix_2[10] + matrix_2[11]\n",
    "sum_of_matrix_2 = p+q+r\n",
    "total_sum = sum_of_matrix_1 + sum_of_matrix_2\n",
    "print(\"The sum of both matrices are: \",total_sum)"
   ]
  },
  {
   "cell_type": "code",
   "execution_count": 5,
   "id": "60957ca9",
   "metadata": {},
   "outputs": [
    {
     "name": "stdout",
     "output_type": "stream",
     "text": [
      "The product of both matrices are:  14868\n"
     ]
    }
   ],
   "source": [
    "10.\n",
    "matrix_1 = [2,11,7,12,\n",
    "          5,2,9,15,\n",
    "          8,3,10,42]\n",
    "x = matrix_1[0] + matrix_1[1] + matrix_1[2] + matrix_1[3]\n",
    "y = matrix_1[4] + matrix_1[5] + matrix_1[6] + matrix_1[7]\n",
    "z = matrix_1[8] + matrix_1[9] + matrix_1[10] + matrix_1[11]\n",
    "sum_of_matrix_1 = x+y+z\n",
    "matrix_2 = [7,9,7,10,\n",
    "           13,2,0,11,\n",
    "           8,0,17,34]\n",
    "p = matrix_2[0] + matrix_2[1] + matrix_2[2] + matrix_2[3]\n",
    "q = matrix_2[4] + matrix_2[5] + matrix_2[6] + matrix_2[7]\n",
    "r = matrix_2[8] + matrix_2[9] + matrix_2[10] + matrix_2[11]\n",
    "sum_of_matrix_2 = p+q+r\n",
    "product = sum_of_matrix_1*sum_of_matrix_2\n",
    "print(\"The product of both matrices are: \",product)"
   ]
  },
  {
   "cell_type": "markdown",
   "id": "6184a2dd",
   "metadata": {},
   "source": [
    "# loops"
   ]
  },
  {
   "cell_type": "code",
   "execution_count": 7,
   "id": "5f2505b2",
   "metadata": {},
   "outputs": [
    {
     "name": "stdout",
     "output_type": "stream",
     "text": [
      "1\n",
      "2\n",
      "3\n",
      "4\n",
      "5\n",
      "6\n",
      "7\n",
      "8\n",
      "9\n",
      "10\n"
     ]
    }
   ],
   "source": [
    "1.\n",
    "\n",
    "for i in range(1,11):\n",
    "    print(i)"
   ]
  },
  {
   "cell_type": "code",
   "execution_count": 8,
   "id": "2f4979b0",
   "metadata": {},
   "outputs": [
    {
     "name": "stdout",
     "output_type": "stream",
     "text": [
      "20\n",
      "19\n",
      "18\n",
      "17\n",
      "16\n",
      "15\n",
      "14\n",
      "13\n",
      "12\n",
      "11\n",
      "10\n",
      "9\n",
      "8\n",
      "7\n",
      "6\n",
      "5\n",
      "4\n",
      "3\n",
      "2\n",
      "1\n"
     ]
    }
   ],
   "source": [
    "2.\n",
    "\n",
    "number = 20\n",
    "while number >= 1:\n",
    "    print(number)\n",
    "    number -= 1\n"
   ]
  },
  {
   "cell_type": "code",
   "execution_count": 12,
   "id": "dd94e568",
   "metadata": {},
   "outputs": [
    {
     "name": "stdout",
     "output_type": "stream",
     "text": [
      "2\n",
      "4\n",
      "6\n",
      "8\n",
      "10\n"
     ]
    }
   ],
   "source": [
    "3.\n",
    "\n",
    "for i in range(1,11):\n",
    "    if i %2== 0:\n",
    "        print(i)"
   ]
  },
  {
   "cell_type": "code",
   "execution_count": 16,
   "id": "9bad4f76",
   "metadata": {},
   "outputs": [
    {
     "name": "stdout",
     "output_type": "stream",
     "text": [
      "enter the number n: 9\n",
      "1\n",
      "2\n",
      "3\n",
      "4\n",
      "5\n",
      "6\n",
      "7\n",
      "8\n"
     ]
    }
   ],
   "source": [
    "4.\n",
    "\n",
    "n = int(input(\"enter the number n: \"))\n",
    "for i in range(1,n):\n",
    "    print(i)"
   ]
  },
  {
   "cell_type": "code",
   "execution_count": 17,
   "id": "2470e57b",
   "metadata": {},
   "outputs": [
    {
     "name": "stdout",
     "output_type": "stream",
     "text": [
      "Enter the number n: 9\n",
      "1\n",
      "3\n",
      "5\n",
      "7\n"
     ]
    }
   ],
   "source": [
    "5.\n",
    "\n",
    "n = int(input(\"Enter the number n: \"))\n",
    "for i in range(1,n):\n",
    "    if i % 2 != 0:\n",
    "        print(i)"
   ]
  },
  {
   "cell_type": "code",
   "execution_count": 18,
   "id": "1923a1bf",
   "metadata": {},
   "outputs": [
    {
     "name": "stdout",
     "output_type": "stream",
     "text": [
      "Happy Birthday!\n",
      "Happy Birthday!\n",
      "Happy Birthday!\n",
      "Happy Birthday!\n",
      "Happy Birthday!\n"
     ]
    }
   ],
   "source": [
    "6.\n",
    "for i in range(1,6):\n",
    "    print(\"Happy Birthday!\")"
   ]
  },
  {
   "cell_type": "code",
   "execution_count": 20,
   "id": "d0e1f362",
   "metadata": {},
   "outputs": [
    {
     "name": "stdout",
     "output_type": "stream",
     "text": [
      "Enter a number: 6\n",
      "The first 6 terms of the series are:\n",
      "1\n",
      "4\n",
      "9\n",
      "16\n",
      "25\n",
      "36\n"
     ]
    }
   ],
   "source": [
    "7.\n",
    "n = int(input(\"Enter a number: \"))\n",
    "print(\"The first\", n, \"terms of the series are:\")\n",
    "for i in range(1, n + 1):\n",
    "    print(i ** 2)\n"
   ]
  },
  {
   "cell_type": "code",
   "execution_count": 1,
   "id": "bb77542c",
   "metadata": {},
   "outputs": [
    {
     "name": "stdout",
     "output_type": "stream",
     "text": [
      "enter the number of which you want to generate table: 2\n",
      "2 x 1 = 2\n",
      "2 x 2 = 4\n",
      "2 x 3 = 6\n",
      "2 x 4 = 8\n",
      "2 x 5 = 10\n",
      "2 x 6 = 12\n",
      "2 x 7 = 14\n",
      "2 x 8 = 16\n",
      "2 x 9 = 18\n",
      "2 x 10 = 20\n"
     ]
    }
   ],
   "source": [
    "8.\n",
    "\n",
    "num = int(input('enter the number of which you want to generate table: '))\n",
    "\n",
    "for i in range(1, 11):\n",
    "    print(f\"{num} x {i} = {num * i}\")\n"
   ]
  },
  {
   "cell_type": "code",
   "execution_count": 1,
   "id": "f175c48a",
   "metadata": {},
   "outputs": [
    {
     "name": "stdout",
     "output_type": "stream",
     "text": [
      "3\n",
      "7\n",
      "11\n",
      "15\n",
      "19\n",
      "23\n",
      "27\n",
      "31\n"
     ]
    }
   ],
   "source": [
    "9.\n",
    "start_value = 3\n",
    "common_difference = 4\n",
    "\n",
    "for i in range(8):\n",
    "    term = start_value + i * common_difference\n",
    "    print(term)"
   ]
  },
  {
   "cell_type": "code",
   "execution_count": 3,
   "id": "cf428a31",
   "metadata": {},
   "outputs": [
    {
     "name": "stdout",
     "output_type": "stream",
     "text": [
      "2\n",
      "6\n",
      "18\n",
      "54\n",
      "162\n",
      "486\n"
     ]
    }
   ],
   "source": [
    "10.\n",
    "start_value = 2\n",
    "common_ratio = 3\n",
    "term = start_value\n",
    "for _ in range(6):\n",
    "    print(term)\n",
    "    term *= common_ratio\n"
   ]
  },
  {
   "cell_type": "code",
   "execution_count": 7,
   "id": "0a18c8cc",
   "metadata": {},
   "outputs": [
    {
     "name": "stdout",
     "output_type": "stream",
     "text": [
      "Enter a positive integer: 20\n",
      "The sum of integers from 1 to 20 is 1.\n",
      "The sum of integers from 1 to 20 is 3.\n",
      "The sum of integers from 1 to 20 is 6.\n",
      "The sum of integers from 1 to 20 is 10.\n",
      "The sum of integers from 1 to 20 is 15.\n",
      "The sum of integers from 1 to 20 is 21.\n",
      "The sum of integers from 1 to 20 is 28.\n",
      "The sum of integers from 1 to 20 is 36.\n",
      "The sum of integers from 1 to 20 is 45.\n",
      "The sum of integers from 1 to 20 is 55.\n",
      "The sum of integers from 1 to 20 is 66.\n",
      "The sum of integers from 1 to 20 is 78.\n",
      "The sum of integers from 1 to 20 is 91.\n",
      "The sum of integers from 1 to 20 is 105.\n",
      "The sum of integers from 1 to 20 is 120.\n",
      "The sum of integers from 1 to 20 is 136.\n",
      "The sum of integers from 1 to 20 is 153.\n",
      "The sum of integers from 1 to 20 is 171.\n",
      "The sum of integers from 1 to 20 is 190.\n",
      "The sum of integers from 1 to 20 is 210.\n"
     ]
    }
   ],
   "source": [
    "11.\n",
    "user_input = input(\"Enter a positive integer: \")\n",
    "\n",
    "n = int(user_input)\n",
    "if n <= 0:\n",
    "    print(\"Please enter a positive integer.\")\n",
    "else:\n",
    "    total = 0\n",
    "for i in range(1, n + 1):\n",
    "    total += i\n",
    "    print(f\"The sum of integers from 1 to {n} is {total}.\")\n"
   ]
  },
  {
   "cell_type": "code",
   "execution_count": 4,
   "id": "def042c3",
   "metadata": {},
   "outputs": [
    {
     "name": "stdout",
     "output_type": "stream",
     "text": [
      "Enter a positive integer: 5\n",
      "The sum of reciprocals from 1 to 5 is: 2.283333333333333\n"
     ]
    }
   ],
   "source": [
    "12.\n",
    "user_input = input(\"Enter a positive integer: \")\n",
    "n = int(user_input)\n",
    "if n <= 0:\n",
    "    print(\"Please enter a positive integer.\")\n",
    "else:\n",
    "    total = 0\n",
    "    for i in range(1, n + 1):\n",
    "        total += 1 / i\n",
    "    print(f\"The sum of reciprocals from 1 to {n} is: {total}\")\n"
   ]
  },
  {
   "cell_type": "code",
   "execution_count": 2,
   "id": "0c2c139b",
   "metadata": {},
   "outputs": [
    {
     "name": "stdout",
     "output_type": "stream",
     "text": [
      "Enter a number: 10\n",
      "Enter a number: 15\n",
      "Enter a number: 32\n",
      "Enter a number: 40\n",
      "Enter a number: 50\n",
      "The final running total is: 147\n"
     ]
    }
   ],
   "source": [
    "13.\n",
    "total = 0\n",
    "for i in range(5):\n",
    "    \n",
    "    num = int(input(\"Enter a number: \"))\n",
    "    total += num \n",
    "print(f\"The final running total is: {total}\")\n"
   ]
  },
  {
   "cell_type": "code",
   "execution_count": 4,
   "id": "eddbb264",
   "metadata": {},
   "outputs": [
    {
     "name": "stdout",
     "output_type": "stream",
     "text": [
      "Enter a positive integer: 5\n",
      "The factorial of 5 is 1\n",
      "The factorial of 5 is 2\n",
      "The factorial of 5 is 6\n",
      "The factorial of 5 is 24\n",
      "The factorial of 5 is 120\n"
     ]
    }
   ],
   "source": [
    "14.\n",
    "factorial = 1\n",
    "num = int(input(\"Enter a positive integer: \"))\n",
    "if num < 0:\n",
    "    print(\"Factorial does not exist for negative numbers.\")\n",
    "elif num == 0:\n",
    "    print(\"The factorial of 0 is 1\")\n",
    "else:\n",
    "    for i in range(1, num + 1):\n",
    "        factorial *= i\n",
    "        print(f\"The factorial of {num} is {factorial}\")\n",
    "\n"
   ]
  },
  {
   "cell_type": "code",
   "execution_count": 5,
   "id": "143440ac",
   "metadata": {},
   "outputs": [
    {
     "name": "stdout",
     "output_type": "stream",
     "text": [
      "Enter the base value: 2\n",
      "Enter the exponent value: 4\n",
      "Answer is: 16\n"
     ]
    }
   ],
   "source": [
    "15.\n",
    "base = int(input(\"Enter the base value: \"))\n",
    "exponent = int(input(\"Enter the exponent value: \"))\n",
    "ans = 1\n",
    "for i in range(abs(exponent)):\n",
    "    ans *= base\n",
    "if exponent < 0:\n",
    "    ans = 1 / ans\n",
    "print(f\"Answer is: {ans}\")\n"
   ]
  },
  {
   "cell_type": "code",
   "execution_count": null,
   "id": "5003840e",
   "metadata": {},
   "outputs": [],
   "source": []
  }
 ],
 "metadata": {
  "kernelspec": {
   "display_name": "Python 3 (ipykernel)",
   "language": "python",
   "name": "python3"
  },
  "language_info": {
   "codemirror_mode": {
    "name": "ipython",
    "version": 3
   },
   "file_extension": ".py",
   "mimetype": "text/x-python",
   "name": "python",
   "nbconvert_exporter": "python",
   "pygments_lexer": "ipython3",
   "version": "3.11.5"
  }
 },
 "nbformat": 4,
 "nbformat_minor": 5
}
